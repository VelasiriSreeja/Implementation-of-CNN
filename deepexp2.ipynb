{
  "cells": [
    {
      "cell_type": "markdown",
      "metadata": {
        "id": "view-in-github",
        "colab_type": "text"
      },
      "source": [
        "<a href=\"https://colab.research.google.com/github/VelasiriSreeja/Implementation-of-CNN/blob/main/deepexp2.ipynb\" target=\"_parent\"><img src=\"https://colab.research.google.com/assets/colab-badge.svg\" alt=\"Open In Colab\"/></a>"
      ]
    },
    {
      "cell_type": "markdown",
      "metadata": {
        "id": "iQjHqsmTAVLU"
      },
      "source": [
        "# Implementation of CNN\n",
        "\n",
        "Implement CNN to classify digits in MNIST to 99.5% accuracy or more by adding only a single convolutional layer and a single MaxPooling 2D layer to the model."
      ]
    },
    {
      "cell_type": "markdown",
      "metadata": {
        "id": "z2WqLrbFRlAu"
      },
      "source": [
        "#### TIPS FOR SUCCESSFUL GRADING OF YOUR ASSIGNMENT:\n",
        "\n",
        "- All cells are frozen except for the ones where you need to submit your solutions or when explicitly mentioned you can interact with it.\n",
        "\n",
        "- You can add new cells to experiment but these will be omitted by the grader, so don't rely on newly created cells to host your solution code, use the provided places for this.\n",
        "\n",
        "- You can add the comment # grade-up-to-here in any graded cell to signal the grader that it must only evaluate up to that point. This is helpful if you want to check if you are on the right track even if you are not done with the whole assignment. Be sure to remember to delete the comment afterwards!\n",
        "\n",
        "- Avoid using global variables unless you absolutely have to. The grader tests your code in an isolated environment without running all cells from the top. As a result, global variables may be unavailable when scoring your submission. Global variables that are meant to be used will be defined in UPPERCASE.\n",
        "\n",
        "- To submit your notebook, save it and then click on the blue submit button at the beginning of the page."
      ]
    },
    {
      "cell_type": "code",
      "execution_count": null,
      "metadata": {
        "deletable": false,
        "editable": false,
        "id": "ZpztRwBouwYp",
        "tags": [
          "graded"
        ]
      },
      "outputs": [],
      "source": [
        "import numpy as np\n",
        "import tensorflow as tf"
      ]
    },
    {
      "cell_type": "markdown",
      "metadata": {
        "id": "2nXzJt54RlAw"
      },
      "source": [
        "## Load and inspect the data\n",
        "\n",
        "Begin by loading the data mnist.npz"
      ]
    },
    {
      "cell_type": "code",
      "execution_count": null,
      "metadata": {
        "deletable": false,
        "editable": false,
        "tags": [
          "graded"
        ],
        "id": "wAl2dJ3DRlAw",
        "colab": {
          "base_uri": "https://localhost:8080/"
        },
        "outputId": "9b1a286c-49a0-4e9f-c8ad-1c4e35480a3e"
      },
      "outputs": [
        {
          "output_type": "stream",
          "name": "stdout",
          "text": [
            "A local file was found, but it seems to be incomplete or outdated because the auto file hash does not match the original value of 731c5ac602752760c8e48fbffcf8c3b850d9dc2a2aedcf2cc48468fc17b673d1 so we will re-download the data.\n",
            "Downloading data from https://storage.googleapis.com/tensorflow/tf-keras-datasets/mnist.npz\n",
            "\u001b[1m11490434/11490434\u001b[0m \u001b[32m━━━━━━━━━━━━━━━━━━━━\u001b[0m\u001b[37m\u001b[0m \u001b[1m2s\u001b[0m 0us/step\n",
            "training_images is of type <class 'numpy.ndarray'>.\n",
            "training_labels is of type <class 'numpy.ndarray'>\n",
            "\n",
            "There are 60000 examples with shape (28, 28)\n"
          ]
        }
      ],
      "source": [
        "# Provide path to get the full path\n",
        "data_path ='/content/mnist.npz.zip'\n",
        "\n",
        "# Load data (discard test set)\n",
        "(training_images, training_labels), _ = tf.keras.datasets.mnist.load_data(path=data_path)\n",
        "\n",
        "print(f\"training_images is of type {type(training_images)}.\\ntraining_labels is of type {type(training_labels)}\\n\")\n",
        "\n",
        "# Inspect shape of the data\n",
        "data_shape = training_images.shape\n",
        "\n",
        "print(f\"There are {data_shape[0]} examples with shape ({data_shape[1]}, {data_shape[2]})\")"
      ]
    },
    {
      "cell_type": "markdown",
      "metadata": {
        "id": "x9BoBkTXRlAw"
      },
      "source": [
        "## Pre-processing the data\n",
        "\n",
        "One important step when dealing with image data is to preprocess the data. During the preprocess step you can apply transformations to the dataset that will be fed into your convolutional neural network."
      ]
    },
    {
      "cell_type": "markdown",
      "metadata": {
        "id": "3OkFczaJRlAx"
      },
      "source": [
        "\n",
        "## Part 1: reshape_and_normalize\n",
        "\n",
        "You will apply two transformations to the data:\n"
      ]
    },
    {
      "cell_type": "code",
      "execution_count": null,
      "metadata": {
        "deletable": false,
        "tags": [
          "graded"
        ],
        "id": "_cM8RESaRlAx"
      },
      "outputs": [],
      "source": [
        "# reshape_and_normalize\n",
        "\n",
        "def reshape_and_normalize(images):\n",
        "    \"\"\"Reshapes the array of images and normalizes pixel values.\n",
        "\n",
        "    Args:\n",
        "        images (numpy.ndarray): The images encoded as numpy arrays\n",
        "\n",
        "    Returns:\n",
        "        numpy.ndarray: The reshaped and normalized images.\n",
        "    \"\"\"\n",
        "\n",
        "    ### START CODE HERE ###\n",
        "\n",
        "    # Reshape the images to add an extra dimension (at the right-most side of the array)\n",
        "    images =  images.reshape(images.shape[0], images.shape[1], images.shape[2], 1)\n",
        "    # Normalize pixel values\n",
        "    images = images / np.max(images)\n",
        "    ### END CODE HERE ###\n",
        "\n",
        "    return images"
      ]
    },
    {
      "cell_type": "markdown",
      "metadata": {
        "id": "T6OSWXHjRlAx"
      },
      "source": [
        "Test your function with the next cell:"
      ]
    },
    {
      "cell_type": "code",
      "execution_count": null,
      "metadata": {
        "deletable": false,
        "editable": false,
        "tags": [
          "graded"
        ],
        "id": "JMV2Dhg5RlAy",
        "colab": {
          "base_uri": "https://localhost:8080/"
        },
        "outputId": "e4d8a204-bb1a-45f0-f761-b9827ed38470"
      },
      "outputs": [
        {
          "output_type": "stream",
          "name": "stdout",
          "text": [
            "Name:  sreeja          RegisterNumber:  212222230169        \n",
            "\n",
            "Maximum pixel value after normalization: 1.0\n",
            "\n",
            "Shape of training set after reshaping: (60000, 28, 28, 1)\n",
            "\n",
            "Shape of one image after reshaping: (28, 28, 1)\n"
          ]
        }
      ],
      "source": [
        "# Reload the images in case you run this cell multiple times\n",
        "(training_images, _), _ = tf.keras.datasets.mnist.load_data(path=data_path)\n",
        "\n",
        "# Apply your function\n",
        "training_images = reshape_and_normalize(training_images)\n",
        "print('Name:  sreeja          RegisterNumber:  212222230169        \\n')\n",
        "print(f\"Maximum pixel value after normalization: {np.max(training_images)}\\n\")\n",
        "print(f\"Shape of training set after reshaping: {training_images.shape}\\n\")\n",
        "print(f\"Shape of one image after reshaping: {training_images[0].shape}\")"
      ]
    },
    {
      "cell_type": "markdown",
      "metadata": {
        "id": "G3yWN6wuRlAy"
      },
      "source": [
        "## Part 2: EarlyStoppingCallback\n",
        "\n",
        "create your own custom callback. For this complete the `EarlyStoppingCallback` class and the `on_epoch_end` method in the cell below."
      ]
    },
    {
      "cell_type": "code",
      "execution_count": null,
      "metadata": {
        "deletable": false,
        "tags": [
          "graded"
        ],
        "id": "tI3YGuCRRlAy"
      },
      "outputs": [],
      "source": [
        "from tensorflow.keras.callbacks import Callback\n",
        "class EarlyStoppingCallback(Callback):\n",
        "  def __init__(self):\n",
        "    self.threshold = 0.995\n",
        "\n",
        "  def on_epoch_end(self, epoch, logs=None):\n",
        "    if logs is None:\n",
        "      return\n",
        "    accuracy = logs.get('accuracy')\n",
        "    if accuracy >= self.threshold:\n",
        "      self.model.stop_training = True\n",
        "      print(\"\\nReached 99.5% accuracy so cancelling training!\\n\")\n",
        "      print('Name:  sreeja          Register Number:  212222230169       \\n')\n",
        "### END CODE HERE ###"
      ]
    },
    {
      "cell_type": "markdown",
      "metadata": {
        "id": "__m7bbRXRlAz"
      },
      "source": [
        "## Part 3: convolutional_model\n",
        "\n",
        "Complete the `convolutional_model` function below. This function should return your convolutional neural network.\n",
        "\n",
        "**Your model should achieve an accuracy of 99.5% or more before 10 epochs"
      ]
    },
    {
      "cell_type": "code",
      "execution_count": null,
      "metadata": {
        "deletable": false,
        "tags": [
          "graded"
        ],
        "id": "jgWf4I45RlAz"
      },
      "outputs": [],
      "source": [
        "\n",
        "from tensorflow.keras.models import Sequential\n",
        "from tensorflow.keras.layers import Conv2D, MaxPooling2D, Flatten, Dense\n",
        "from tensorflow.keras.callbacks import EarlyStopping\n",
        "\n",
        "def convolutional_model():\n",
        "  \"\"\"\n",
        "  Creates a convolutional neural network model.\n",
        "\n",
        "  Returns:\n",
        "    The compiled Keras model.\n",
        "  \"\"\"\n",
        "\n",
        "  # Define the model architecture\n",
        "  model = Sequential([\n",
        "      Conv2D(32, (3, 3), activation='relu', input_shape=(28, 28, 1)),  # Adjust input shape if needed\n",
        "      MaxPooling2D((2, 2)),\n",
        "      Flatten(),\n",
        "      Dense(128, activation='relu'),\n",
        "      Dense(10, activation='softmax')\n",
        "  ])\n",
        "\n",
        "  # Compile the model\n",
        "  model.compile(optimizer='adam', loss='sparse_categorical_crossentropy', metrics=['accuracy'])\n",
        "\n",
        "  return model"
      ]
    },
    {
      "cell_type": "code",
      "execution_count": null,
      "metadata": {
        "deletable": false,
        "editable": false,
        "id": "bLBElglURlAz",
        "colab": {
          "base_uri": "https://localhost:8080/"
        },
        "outputId": "cbd45ad7-1f6b-4a86-d889-42caa11b56d2"
      },
      "outputs": [
        {
          "output_type": "stream",
          "name": "stderr",
          "text": [
            "/usr/local/lib/python3.10/dist-packages/keras/src/layers/convolutional/base_conv.py:107: UserWarning: Do not pass an `input_shape`/`input_dim` argument to a layer. When using Sequential models, prefer using an `Input(shape)` object as the first layer in the model instead.\n",
            "  super().__init__(activity_regularizer=activity_regularizer, **kwargs)\n"
          ]
        }
      ],
      "source": [
        "# Define your compiled (but untrained) model\n",
        "model = convolutional_model()"
      ]
    },
    {
      "cell_type": "code",
      "execution_count": null,
      "metadata": {
        "deletable": false,
        "editable": false,
        "id": "HOXi_gZyRlAz",
        "colab": {
          "base_uri": "https://localhost:8080/"
        },
        "outputId": "3a92277a-fb66-4713-bc50-ef9e7dd60286"
      },
      "outputs": [
        {
          "output_type": "stream",
          "name": "stdout",
          "text": [
            "Epoch 1/10\n",
            "\u001b[1m1875/1875\u001b[0m \u001b[32m━━━━━━━━━━━━━━━━━━━━\u001b[0m\u001b[37m\u001b[0m \u001b[1m42s\u001b[0m 22ms/step - accuracy: 0.9082 - loss: 0.2990\n",
            "Epoch 2/10\n",
            "\u001b[1m1875/1875\u001b[0m \u001b[32m━━━━━━━━━━━━━━━━━━━━\u001b[0m\u001b[37m\u001b[0m \u001b[1m40s\u001b[0m 21ms/step - accuracy: 0.9833 - loss: 0.0560\n",
            "Epoch 3/10\n",
            "\u001b[1m 766/1875\u001b[0m \u001b[32m━━━━━━━━\u001b[0m\u001b[37m━━━━━━━━━━━━\u001b[0m \u001b[1m22s\u001b[0m 21ms/step - accuracy: 0.9916 - loss: 0.0277"
          ]
        }
      ],
      "source": [
        "# Train your model (this can take up to 5 minutes)\n",
        "training_history = model.fit(training_images, training_labels, epochs=10, callbacks=[EarlyStoppingCallback()])"
      ]
    }
  ],
  "metadata": {
    "grader_version": "1",
    "kernelspec": {
      "display_name": "Python 3",
      "language": "python",
      "name": "python3"
    },
    "language_info": {
      "codemirror_mode": {
        "name": "ipython",
        "version": 3
      },
      "file_extension": ".py",
      "mimetype": "text/x-python",
      "name": "python",
      "nbconvert_exporter": "python",
      "pygments_lexer": "ipython3",
      "version": "3.11.5"
    },
    "colab": {
      "provenance": [],
      "include_colab_link": true
    }
  },
  "nbformat": 4,
  "nbformat_minor": 0
}